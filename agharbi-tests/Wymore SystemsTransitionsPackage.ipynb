{
 "cells": [
  {
   "cell_type": "code",
   "execution_count": 5,
   "metadata": {},
   "outputs": [],
   "source": [
    "from transitions import Machine\n",
    "from transitions.extensions.states import Timeout, Tags, add_state_features\n",
    "from transitions.extensions.diagrams import GraphMachine\n",
    "\n",
    "import io\n",
    "from IPython.display import Image, display, display_png\n",
    "@add_state_features(Timeout, Tags)\n",
    "class CustomMachine(GraphMachine):\n",
    "    pass\n",
    "\n",
    "\n",
    "states = ['1', '2']\n",
    "transitions = [['3', '1', '1'], ['4', '1', '2'], ['3', '2', '2'], ['4', '2', '1']]\n",
    "        "
   ]
  },
  {
   "cell_type": "code",
   "execution_count": 7,
   "metadata": {},
   "outputs": [
    {
     "data": {
      "image/png": "[encoded data removed]",
      "text/plain": [
       "<IPython.core.display.Image object>"
      ]
     },
     "metadata": {},
     "output_type": "display_data"
    }
   ],
   "source": [
    "class Model:\n",
    "    \n",
    "    # graph object is created by the machine\n",
    "    def show_graph(self, **kwargs):\n",
    "        stream = io.BytesIO()\n",
    "        self.get_graph(**kwargs).draw(stream, prog='dot', format='png')\n",
    "        display(Image(stream.getvalue()))\n",
    "    \n",
    "    def is_valid(self):\n",
    "        return True\n",
    "    \n",
    "    def abort_triggered(self):\n",
    "        return False\n",
    "\n",
    "model = Model()\n",
    "machine = CustomMachine(model=model, states=states, transitions=transitions, initial='1', title='System Z6',\n",
    "                        show_conditions=True, show_state_attributes=True)\n",
    "model.show_graph()"
   ]
  },
  {
   "cell_type": "code",
   "execution_count": 9,
   "metadata": {},
   "outputs": [
    {
     "data": {
      "text/plain": [
       "True"
      ]
     },
     "execution_count": 9,
     "metadata": {},
     "output_type": "execute_result"
    }
   ],
   "source": [
    "model.trigger('4')"
   ]
  },
  {
   "cell_type": "markdown",
   "metadata": {},
   "source": [
    "model.state"
   ]
  },
  {
   "cell_type": "code",
   "execution_count": null,
   "metadata": {},
   "outputs": [],
   "source": []
  }
 ],
 "metadata": {
  "kernelspec": {
   "display_name": "Python 3",
   "language": "python",
   "name": "python3"
  },
  "language_info": {
   "codemirror_mode": {
    "name": "ipython",
    "version": 3
   },
   "file_extension": ".py",
   "mimetype": "text/x-python",
   "name": "python",
   "nbconvert_exporter": "python",
   "pygments_lexer": "ipython3",
   "version": "3.7.6"
  }
 },
 "nbformat": 4,
 "nbformat_minor": 4
}
